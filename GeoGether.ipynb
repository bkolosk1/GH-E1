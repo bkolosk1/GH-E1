{
 "cells": [
  {
   "cell_type": "code",
   "execution_count": 9,
   "id": "bf53a08e-e065-4c41-93fc-7a8ab0c68e14",
   "metadata": {},
   "outputs": [
    {
     "name": "stdout",
     "output_type": "stream",
     "text": [
      "^C\n",
      "Requirement already satisfied: geopandas in c:\\programdata\\anaconda3\\lib\\site-packages (0.6.2)\n",
      "Requirement already satisfied: pyproj in c:\\programdata\\anaconda3\\lib\\site-packages (from geopandas) (3.2.1)\n",
      "Requirement already satisfied: pandas>=0.23.0 in c:\\users\\bosec\\appdata\\roaming\\python\\python37\\site-packages (from geopandas) (1.2.2)\n",
      "Requirement already satisfied: shapely in c:\\programdata\\anaconda3\\lib\\site-packages (from geopandas) (1.8.0)\n",
      "Requirement already satisfied: fiona in c:\\programdata\\anaconda3\\lib\\site-packages (from geopandas) (1.8.20)\n",
      "Requirement already satisfied: certifi in c:\\users\\bosec\\appdata\\roaming\\python\\python37\\site-packages (from pyproj->geopandas) (2020.12.5)\n",
      "Requirement already satisfied: numpy>=1.16.5 in c:\\programdata\\anaconda3\\lib\\site-packages (from pandas>=0.23.0->geopandas) (1.21.4+vanilla)\n",
      "Requirement already satisfied: pytz>=2017.3 in c:\\users\\bosec\\appdata\\roaming\\python\\python37\\site-packages (from pandas>=0.23.0->geopandas) (2021.1)\n",
      "Requirement already satisfied: python-dateutil>=2.7.3 in c:\\users\\bosec\\appdata\\roaming\\python\\python37\\site-packages (from pandas>=0.23.0->geopandas) (2.8.1)\n",
      "Requirement already satisfied: click-plugins>=1.0 in c:\\programdata\\anaconda3\\lib\\site-packages (from fiona->geopandas) (1.1.1)\n",
      "Requirement already satisfied: gdal~=3.3.0 in c:\\programdata\\anaconda3\\lib\\site-packages (from fiona->geopandas) (3.3.3)\n",
      "Requirement already satisfied: munch in c:\\programdata\\anaconda3\\lib\\site-packages (from fiona->geopandas) (2.5.0)\n",
      "Requirement already satisfied: cligj>=0.5 in c:\\programdata\\anaconda3\\lib\\site-packages (from fiona->geopandas) (0.7.2)\n",
      "Requirement already satisfied: setuptools in c:\\users\\bosec\\appdata\\roaming\\python\\python37\\site-packages (from fiona->geopandas) (50.3.2)\n",
      "Requirement already satisfied: click>=4.0 in c:\\users\\bosec\\appdata\\roaming\\python\\python37\\site-packages (from fiona->geopandas) (7.1.2)\n",
      "Requirement already satisfied: attrs>=17 in c:\\users\\bosec\\appdata\\roaming\\python\\python37\\site-packages (from fiona->geopandas) (20.3.0)\n",
      "Requirement already satisfied: six>=1.7 in c:\\programdata\\anaconda3\\lib\\site-packages (from fiona->geopandas) (1.16.0)\n"
     ]
    },
    {
     "name": "stderr",
     "output_type": "stream",
     "text": [
      "WARNING: You are using pip version 20.2.4; however, version 21.3.1 is available.\n",
      "You should consider upgrading via the 'C:\\ProgramData\\Anaconda3\\python.exe -m pip install --upgrade pip' command.\n"
     ]
    },
    {
     "name": "stdout",
     "output_type": "stream",
     "text": [
      "Requirement already satisfied: geopy in c:\\programdata\\anaconda3\\lib\\site-packages (2.2.0)\n",
      "Requirement already satisfied: geographiclib<2,>=1.49 in c:\\programdata\\anaconda3\\lib\\site-packages (from geopy) (1.52)\n"
     ]
    },
    {
     "name": "stderr",
     "output_type": "stream",
     "text": [
      "WARNING: You are using pip version 20.2.4; however, version 21.3.1 is available.\n",
      "You should consider upgrading via the 'C:\\ProgramData\\Anaconda3\\python.exe -m pip install --upgrade pip' command.\n"
     ]
    }
   ],
   "source": [
    "!pip install geopandas\n",
    "!pip install geopy"
   ]
  },
  {
   "cell_type": "code",
   "execution_count": 10,
   "id": "e4e3ed03-299c-475d-abb5-40a3fdc0839e",
   "metadata": {},
   "outputs": [],
   "source": [
    "import pandas as pd\n",
    "from tqdm import tqdm"
   ]
  },
  {
   "cell_type": "code",
   "execution_count": 11,
   "id": "167c8b91-8d38-4e91-813a-5022801c646a",
   "metadata": {},
   "outputs": [
    {
     "name": "stderr",
     "output_type": "stream",
     "text": [
      "C:\\ProgramData\\Anaconda3\\lib\\site-packages\\IPython\\core\\interactiveshell.py:3072: DtypeWarning: Columns (19) have mixed types.Specify dtype option on import or set low_memory=False.\n",
      "  interactivity=interactivity, compiler=compiler, result=result)\n"
     ]
    }
   ],
   "source": [
    "df = pd.read_csv('data/EVL.csv')"
   ]
  },
  {
   "cell_type": "code",
   "execution_count": 12,
   "id": "078778b6-ded6-48b4-bbb9-703610d4ed90",
   "metadata": {},
   "outputs": [],
   "source": [
    "addreses = list(set(df['LOKACIJA_PREJEMA']).union(set(df['LOKACIJA_ODDAJE'])))"
   ]
  },
  {
   "cell_type": "code",
   "execution_count": 13,
   "id": "ce06520d-c78f-46f4-922b-88f46a9dc255",
   "metadata": {},
   "outputs": [],
   "source": [
    "del df"
   ]
  },
  {
   "cell_type": "code",
   "execution_count": 14,
   "id": "375a9438-33d3-430b-a344-d452c2050e80",
   "metadata": {},
   "outputs": [],
   "source": [
    "from geopy.geocoders import Nominatim"
   ]
  },
  {
   "cell_type": "code",
   "execution_count": 15,
   "id": "d9857d1c-c775-43c6-8c16-fce39046346d",
   "metadata": {},
   "outputs": [],
   "source": [
    "locator = Nominatim(user_agent=\"myGeocoder\")\n",
    "location = locator.geocode(list(addreses)[3])"
   ]
  },
  {
   "cell_type": "code",
   "execution_count": 16,
   "id": "cbf4a4f3-cf72-423a-967b-8948497b87e2",
   "metadata": {},
   "outputs": [],
   "source": [
    "location"
   ]
  },
  {
   "cell_type": "code",
   "execution_count": 17,
   "id": "da264d8a-1e34-49bb-ab41-ccddb78193c4",
   "metadata": {},
   "outputs": [],
   "source": [
    "def split(a, n):\n",
    "    k, m = divmod(len(a), n)\n",
    "    return (a[i*k+min(i, m):(i+1)*k+min(i+1, m)] for i in range(n))"
   ]
  },
  {
   "cell_type": "code",
   "execution_count": 18,
   "id": "554d7494-3baa-48f9-a7a1-53a6570ec0cb",
   "metadata": {},
   "outputs": [],
   "source": [
    "addresses = list(split(addreses,4))"
   ]
  },
  {
   "cell_type": "code",
   "execution_count": 19,
   "id": "0902ed8d-97c7-44e7-929d-e907ba8ae12c",
   "metadata": {},
   "outputs": [],
   "source": [
    "NAME = \"BOSHKO\""
   ]
  },
  {
   "cell_type": "code",
   "execution_count": 20,
   "id": "ab044006-11e6-4cad-a5c1-0791c64bce2b",
   "metadata": {},
   "outputs": [],
   "source": [
    "MAPPER = {\"BOJAN\":0,\n",
    "          \"LJUPCHE\":1,\n",
    "          \"BOSHKO\":2,\n",
    "          \"GORJAN\":3}"
   ]
  },
  {
   "cell_type": "code",
   "execution_count": 21,
   "id": "6d51030d-e5d2-4f05-9089-38e93ba36bdb",
   "metadata": {},
   "outputs": [],
   "source": [
    "my_list = addresses[MAPPER[NAME]]"
   ]
  },
  {
   "cell_type": "code",
   "execution_count": null,
   "id": "15d58395-e1ea-4978-9231-a47ba9e0200a",
   "metadata": {},
   "outputs": [
    {
     "name": "stderr",
     "output_type": "stream",
     "text": [
      " 35%|████████████████▋                              | 2413/6804 [20:06<38:42,  1.89it/s]"
     ]
    }
   ],
   "source": [
    "errs = 0\n",
    "with open(f'{NAME}.txt','a',encoding='UTF-8') as f:\n",
    "    for a in tqdm(my_list,total=len(my_list)):\n",
    "        try:\n",
    "            location = locator.geocode(a)\n",
    "            lat =location.latitude\n",
    "            long = location.longitude\n",
    "            atd = location.altitude\n",
    "            f.write(\"\\t\".join([a,str(lat),str(long),str(atd),\"\\n\"]))\n",
    "        except Exception as e:\n",
    "            #print(e)\n",
    "            errs = errs + 1"
   ]
  }
 ],
 "metadata": {
  "kernelspec": {
   "display_name": "Python 3",
   "language": "python",
   "name": "python3"
  },
  "language_info": {
   "codemirror_mode": {
    "name": "ipython",
    "version": 3
   },
   "file_extension": ".py",
   "mimetype": "text/x-python",
   "name": "python",
   "nbconvert_exporter": "python",
   "pygments_lexer": "ipython3",
   "version": "3.7.6"
  }
 },
 "nbformat": 4,
 "nbformat_minor": 5
}
