{
 "cells": [
  {
   "cell_type": "code",
   "execution_count": null,
   "id": "bf53a08e-e065-4c41-93fc-7a8ab0c68e14",
   "metadata": {},
   "outputs": [],
   "source": [
    "!pip install geopandas\n",
    "!pip install geopy"
   ]
  },
  {
   "cell_type": "code",
   "execution_count": null,
   "id": "e4e3ed03-299c-475d-abb5-40a3fdc0839e",
   "metadata": {},
   "outputs": [],
   "source": [
    "import pandas as pd\n",
    "from tqdm import tqdm"
   ]
  },
  {
   "cell_type": "code",
   "execution_count": null,
   "id": "167c8b91-8d38-4e91-813a-5022801c646a",
   "metadata": {},
   "outputs": [],
   "source": [
    "df = pd.read_csv('data/EVL.csv')"
   ]
  },
  {
   "cell_type": "code",
   "execution_count": null,
   "id": "078778b6-ded6-48b4-bbb9-703610d4ed90",
   "metadata": {},
   "outputs": [],
   "source": [
    "addreses = list(set(df['LOKACIJA_PREJEMA']).union(set(df['LOKACIJA_ODDAJE'])))"
   ]
  },
  {
   "cell_type": "code",
   "execution_count": null,
   "id": "ce06520d-c78f-46f4-922b-88f46a9dc255",
   "metadata": {},
   "outputs": [],
   "source": [
    "del df"
   ]
  },
  {
   "cell_type": "code",
   "execution_count": null,
   "id": "375a9438-33d3-430b-a344-d452c2050e80",
   "metadata": {},
   "outputs": [],
   "source": [
    "from geopy.geocoders import Nominatim"
   ]
  },
  {
   "cell_type": "code",
   "execution_count": null,
   "id": "d9857d1c-c775-43c6-8c16-fce39046346d",
   "metadata": {},
   "outputs": [],
   "source": [
    "locator = Nominatim(user_agent=\"myGeocoder\")\n",
    "location = locator.geocode(list(addreses)[3])"
   ]
  },
  {
   "cell_type": "code",
   "execution_count": null,
   "id": "cbf4a4f3-cf72-423a-967b-8948497b87e2",
   "metadata": {},
   "outputs": [],
   "source": [
    "location"
   ]
  },
  {
   "cell_type": "code",
   "execution_count": null,
   "id": "da264d8a-1e34-49bb-ab41-ccddb78193c4",
   "metadata": {},
   "outputs": [],
   "source": [
    "def split(a, n):\n",
    "    k, m = divmod(len(a), n)\n",
    "    return (a[i*k+min(i, m):(i+1)*k+min(i+1, m)] for i in range(n))"
   ]
  },
  {
   "cell_type": "code",
   "execution_count": null,
   "id": "554d7494-3baa-48f9-a7a1-53a6570ec0cb",
   "metadata": {},
   "outputs": [],
   "source": [
    "addresses = list(split(addreses,4))"
   ]
  },
  {
   "cell_type": "code",
   "execution_count": null,
   "id": "0902ed8d-97c7-44e7-929d-e907ba8ae12c",
   "metadata": {},
   "outputs": [],
   "source": [
    "NAME = \"BOSHKO\""
   ]
  },
  {
   "cell_type": "code",
   "execution_count": null,
   "id": "ab044006-11e6-4cad-a5c1-0791c64bce2b",
   "metadata": {},
   "outputs": [],
   "source": [
    "MAPPER = {\"BOJAN\":0,\n",
    "          \"LJUPCHE\":1,\n",
    "          \"BOSHKO\":2,\n",
    "          \"GORJAN\":3}"
   ]
  },
  {
   "cell_type": "code",
   "execution_count": null,
   "id": "6d51030d-e5d2-4f05-9089-38e93ba36bdb",
   "metadata": {},
   "outputs": [],
   "source": [
    "my_list = addresses[MAPPER[NAME]]"
   ]
  },
  {
   "cell_type": "code",
   "execution_count": null,
   "id": "15d58395-e1ea-4978-9231-a47ba9e0200a",
   "metadata": {},
   "outputs": [],
   "source": [
    "lat = []\n",
    "long = []\n",
    "errs = 0\n",
    "with open(f'{NAME}.txt','a') as f:\n",
    "    for a in tqdm(my_list,total=len(my_list)):\n",
    "        try:\n",
    "            location = locator.geocode(a)\n",
    "            lat =location.latitude\n",
    "            long = location.longitude\n",
    "            atd = location.altitude\n",
    "            f.writeline(\"\\t\".join([lat,long,atd,\"\\n\"]))\n",
    "        except Exception as e:\n",
    "            errs = errs + 1"
   ]
  }
 ],
 "metadata": {
  "kernelspec": {
   "display_name": "Python 3",
   "language": "python",
   "name": "python3"
  },
  "language_info": {
   "codemirror_mode": {
    "name": "ipython",
    "version": 3
   },
   "file_extension": ".py",
   "mimetype": "text/x-python",
   "name": "python",
   "nbconvert_exporter": "python",
   "pygments_lexer": "ipython3",
   "version": "3.7.6"
  }
 },
 "nbformat": 4,
 "nbformat_minor": 5
}
