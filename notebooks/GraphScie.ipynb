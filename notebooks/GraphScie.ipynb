{
 "cells": [
  {
   "cell_type": "code",
   "execution_count": 1,
   "id": "6fc07aa1-71b0-49a0-ba0f-4c221edab32c",
   "metadata": {},
   "outputs": [],
   "source": [
    "import pandas as pd\n",
    "import networkx as nx\n",
    "from node2vec import Node2Vec\n",
    "from sklearn.cluster import DBSCAN\n",
    "from tqdm import tqdm"
   ]
  },
  {
   "cell_type": "code",
   "execution_count": 2,
   "id": "4180d535-045d-437b-89be-a5409bf3f624",
   "metadata": {},
   "outputs": [],
   "source": [
    "addres_df = pd.read_csv('all_locations.csv')"
   ]
  },
  {
   "cell_type": "code",
   "execution_count": 3,
   "id": "4dc69a37-2b0a-4410-95cb-8a7a8dc809d4",
   "metadata": {},
   "outputs": [],
   "source": [
    "df = pd.read_csv('EVL_pre-network_ZA-BOSKO.csv')"
   ]
  },
  {
   "cell_type": "code",
   "execution_count": 4,
   "id": "01bc146a-d943-45ea-96fa-9ecac14c80b2",
   "metadata": {},
   "outputs": [],
   "source": [
    "df2021 = df.groupby(['LOKACIJA_ODDAJE','LOKACIJA_PREJEMA']).size().reset_index()#.reset_index()#.size()"
   ]
  },
  {
   "cell_type": "code",
   "execution_count": 5,
   "id": "e3dec512-43f8-4704-8044-0d8efecc1b50",
   "metadata": {},
   "outputs": [
    {
     "data": {
      "text/html": [
       "<div>\n",
       "<style scoped>\n",
       "    .dataframe tbody tr th:only-of-type {\n",
       "        vertical-align: middle;\n",
       "    }\n",
       "\n",
       "    .dataframe tbody tr th {\n",
       "        vertical-align: top;\n",
       "    }\n",
       "\n",
       "    .dataframe thead th {\n",
       "        text-align: right;\n",
       "    }\n",
       "</style>\n",
       "<table border=\"1\" class=\"dataframe\">\n",
       "  <thead>\n",
       "    <tr style=\"text-align: right;\">\n",
       "      <th></th>\n",
       "      <th>LOKACIJA_ODDAJE</th>\n",
       "      <th>LOKACIJA_PREJEMA</th>\n",
       "      <th>0</th>\n",
       "    </tr>\n",
       "  </thead>\n",
       "  <tbody>\n",
       "    <tr>\n",
       "      <th>0</th>\n",
       "      <td>ABRAMOVA ULICA 26, 1000 LJUBLJANA</td>\n",
       "      <td>AGROKOMBINATSKA CESTA 80, 1000 LJUBLJANA</td>\n",
       "      <td>84</td>\n",
       "    </tr>\n",
       "    <tr>\n",
       "      <th>1</th>\n",
       "      <td>ABRAMOVA ULICA 26, 1000 LJUBLJANA</td>\n",
       "      <td>Brez naslova</td>\n",
       "      <td>60</td>\n",
       "    </tr>\n",
       "    <tr>\n",
       "      <th>2</th>\n",
       "      <td>ABRAMOVA ULICA 26, 1000 LJUBLJANA</td>\n",
       "      <td>CESTA DVEH CESARJEV 101, 1000 LJUBLJANA</td>\n",
       "      <td>3</td>\n",
       "    </tr>\n",
       "    <tr>\n",
       "      <th>3</th>\n",
       "      <td>ABRAMOVA ULICA 26, 1000 LJUBLJANA</td>\n",
       "      <td>CESTA V PROD 84, 1000 LJUBLJANA</td>\n",
       "      <td>1</td>\n",
       "    </tr>\n",
       "    <tr>\n",
       "      <th>4</th>\n",
       "      <td>ABRAMOVA ULICA 26, 1000 LJUBLJANA</td>\n",
       "      <td>KAMNJE 41, 8232 ŠENTRUPERT</td>\n",
       "      <td>2</td>\n",
       "    </tr>\n",
       "    <tr>\n",
       "      <th>...</th>\n",
       "      <td>...</td>\n",
       "      <td>...</td>\n",
       "      <td>...</td>\n",
       "    </tr>\n",
       "    <tr>\n",
       "      <th>76814</th>\n",
       "      <td>ŽVAB 16, 2259 IVANJKOVCI</td>\n",
       "      <td>SPODNJI PORČIČ 4A, 2230 LENART V SLOV. GORICAH</td>\n",
       "      <td>23</td>\n",
       "    </tr>\n",
       "    <tr>\n",
       "      <th>76815</th>\n",
       "      <td>ŽVIRČE 10A, 8362 HINJE</td>\n",
       "      <td>LJUBLJANSKA CESTA 45, 1241 KAMNIK</td>\n",
       "      <td>1</td>\n",
       "    </tr>\n",
       "    <tr>\n",
       "      <th>76816</th>\n",
       "      <td>ŽVIRČE 10A, 8362 HINJE</td>\n",
       "      <td>NOVOMEŠKA CESTA 7, 1330 KOČEVJE</td>\n",
       "      <td>1</td>\n",
       "    </tr>\n",
       "    <tr>\n",
       "      <th>76817</th>\n",
       "      <td>ŽVIRČE 22, 8362 HINJE</td>\n",
       "      <td>GLINJE 17, 4207 CERKLJE NA GORENJSKEM</td>\n",
       "      <td>5</td>\n",
       "    </tr>\n",
       "    <tr>\n",
       "      <th>76818</th>\n",
       "      <td>Žabja vas 14A, 8000 Novo mesto</td>\n",
       "      <td>Brez naslova</td>\n",
       "      <td>3</td>\n",
       "    </tr>\n",
       "  </tbody>\n",
       "</table>\n",
       "<p>76819 rows × 3 columns</p>\n",
       "</div>"
      ],
      "text/plain": [
       "                         LOKACIJA_ODDAJE  \\\n",
       "0      ABRAMOVA ULICA 26, 1000 LJUBLJANA   \n",
       "1      ABRAMOVA ULICA 26, 1000 LJUBLJANA   \n",
       "2      ABRAMOVA ULICA 26, 1000 LJUBLJANA   \n",
       "3      ABRAMOVA ULICA 26, 1000 LJUBLJANA   \n",
       "4      ABRAMOVA ULICA 26, 1000 LJUBLJANA   \n",
       "...                                  ...   \n",
       "76814           ŽVAB 16, 2259 IVANJKOVCI   \n",
       "76815             ŽVIRČE 10A, 8362 HINJE   \n",
       "76816             ŽVIRČE 10A, 8362 HINJE   \n",
       "76817              ŽVIRČE 22, 8362 HINJE   \n",
       "76818     Žabja vas 14A, 8000 Novo mesto   \n",
       "\n",
       "                                     LOKACIJA_PREJEMA   0  \n",
       "0            AGROKOMBINATSKA CESTA 80, 1000 LJUBLJANA  84  \n",
       "1                                        Brez naslova  60  \n",
       "2             CESTA DVEH CESARJEV 101, 1000 LJUBLJANA   3  \n",
       "3                     CESTA V PROD 84, 1000 LJUBLJANA   1  \n",
       "4                          KAMNJE 41, 8232 ŠENTRUPERT   2  \n",
       "...                                               ...  ..  \n",
       "76814  SPODNJI PORČIČ 4A, 2230 LENART V SLOV. GORICAH  23  \n",
       "76815               LJUBLJANSKA CESTA 45, 1241 KAMNIK   1  \n",
       "76816                 NOVOMEŠKA CESTA 7, 1330 KOČEVJE   1  \n",
       "76817           GLINJE 17, 4207 CERKLJE NA GORENJSKEM   5  \n",
       "76818                                    Brez naslova   3  \n",
       "\n",
       "[76819 rows x 3 columns]"
      ]
     },
     "execution_count": 5,
     "metadata": {},
     "output_type": "execute_result"
    }
   ],
   "source": [
    "df2021"
   ]
  },
  {
   "cell_type": "code",
   "execution_count": 6,
   "id": "59faa2d3-27a1-4cae-824c-b68043fb70b2",
   "metadata": {},
   "outputs": [],
   "source": [
    "from math import sin, cos, sqrt, atan2\n",
    "\n",
    "def get_dist(lat1,lon1,lat2,lon2):\n",
    "    R = 6373.0\n",
    "    dlon = lon2 - lon1\n",
    "    dlat = lat2 - lat1\n",
    "    a = (sin(dlat/2))**2 + cos(lat1) * cos(lat2) * (sin(dlon/2))**2\n",
    "    c = 2 * atan2(sqrt(a), sqrt(1-a))\n",
    "    distance = R * c\n",
    "    return distance"
   ]
  },
  {
   "cell_type": "code",
   "execution_count": 7,
   "id": "8b2910b5-304a-442a-9a5f-5a76d2160335",
   "metadata": {},
   "outputs": [],
   "source": [
    "G = nx.DiGraph()"
   ]
  },
  {
   "cell_type": "code",
   "execution_count": 8,
   "id": "11bda12f-11b0-41fa-91c6-36fae23b1ece",
   "metadata": {},
   "outputs": [],
   "source": [
    "import math"
   ]
  },
  {
   "cell_type": "code",
   "execution_count": 9,
   "id": "36583e2f-d9c1-4a39-ab06-8e218c4a08ad",
   "metadata": {},
   "outputs": [
    {
     "name": "stderr",
     "output_type": "stream",
     "text": [
      "100%|███████████████████████████████████████████████████████████████████████████| 76819/76819 [07:18<00:00, 175.06it/s]\n"
     ]
    }
   ],
   "source": [
    "for i,row in tqdm(df2021.iterrows(), total=len(df2021)):\n",
    "    x = row['LOKACIJA_ODDAJE']\n",
    "    y = row['LOKACIJA_PREJEMA']\n",
    "   # if i == 50:\n",
    "   #     break\n",
    "    try:\n",
    "        x_lang = addres_df[addres_df['Lokacija'] == x].lang.to_list()[0]\n",
    "        x_long  = addres_df[addres_df['Lokacija'] == x].long.to_list()[0]\n",
    "        y_lang = addres_df[addres_df['Lokacija'] ==y].lang.to_list()[0]\n",
    "        y_long = addres_df[addres_df['Lokacija'] == y].long.to_list()[0]\n",
    "        dist = get_dist(x_lang,x_long,y_lang,y_long)\n",
    "        if math.isnan(dist):\n",
    "            #print(dist)\n",
    "            continue\n",
    "        G.add_node(x, lang = x_lang, long =  x_long)\n",
    "        G.add_node(y, lang = y_lang, long = y_long)\n",
    "        G.add_edge(x, y,weight = dist)\n",
    "    except Exception as e :\n",
    "        #print(e)\n",
    "        pass"
   ]
  },
  {
   "cell_type": "code",
   "execution_count": null,
   "id": "2d9c7807-7938-415c-bcdf-d0c0fd376db0",
   "metadata": {},
   "outputs": [],
   "source": []
  },
  {
   "cell_type": "code",
   "execution_count": null,
   "id": "c4100af3-b8fb-4cce-b028-9e6a127a969f",
   "metadata": {},
   "outputs": [],
   "source": [
    "with open('graph.pkl','wb') as f:\n",
    "    import pickle as p\n",
    "    p.dump(G,f)"
   ]
  },
  {
   "cell_type": "code",
   "execution_count": 10,
   "id": "75722353-2bca-41f2-a00c-ed62c3306d73",
   "metadata": {},
   "outputs": [],
   "source": [
    "A = nx.adjacency_matrix(G)"
   ]
  },
  {
   "cell_type": "code",
   "execution_count": null,
   "id": "bf3a276c-6f24-412b-9606-c475dee14b0e",
   "metadata": {},
   "outputs": [],
   "source": [
    "!pip install hdbscan"
   ]
  },
  {
   "cell_type": "code",
   "execution_count": 11,
   "id": "2cea1258-5f52-47df-9a74-c991c8c4b0b2",
   "metadata": {},
   "outputs": [],
   "source": [
    "import hdbscan\n",
    "#from sklearn.datasets import make_blobs\n",
    "\n",
    "clusterer = hdbscan.HDBSCAN(min_cluster_size=5)\n",
    "labels = clusterer.fit_predict(A)"
   ]
  },
  {
   "cell_type": "code",
   "execution_count": 54,
   "id": "799f7fb2-3f8c-4b17-802d-e4f6f20df36f",
   "metadata": {},
   "outputs": [
    {
     "data": {
      "text/plain": [
       "490"
      ]
     },
     "execution_count": 54,
     "metadata": {},
     "output_type": "execute_result"
    }
   ],
   "source": [
    "len(set(labels))"
   ]
  },
  {
   "cell_type": "code",
   "execution_count": 69,
   "id": "64a2cbb0-bc55-4a30-b7ff-536410d9f574",
   "metadata": {},
   "outputs": [
    {
     "name": "stdout",
     "output_type": "stream",
     "text": [
      "R:  5000  min_samples:  1 0 392\n",
      "R:  6700  min_samples:  1 0 227\n",
      "R:  8000  min_samples:  1 0 146\n",
      "R:  10000  min_samples:  1 0 76\n"
     ]
    }
   ],
   "source": [
    "for e in [5000,6700,8000,10000]:\n",
    "    for z in [1]:#,2,3,4,5,10]:\n",
    "        clus = DBSCAN(eps=e, min_samples=z).fit(A)\n",
    "        from collections import Counter\n",
    "        print(\"R: \",e,\" min_samples: \",z,Counter(clus.labels_)[-1],len(set(clus.labels_)))\n",
    "        labels = clus.labels_\n",
    "        label_map = {i:[] for i in set(labels)}\n",
    "        for node, label in zip(G.nodes.data(), labels):\n",
    "           # print(node)\n",
    "            node_name = node[0]\n",
    "            node_stuff = node[1]\n",
    "            label_map[label].append(((node_stuff['lang'],node_stuff['long'])))\n",
    "        name_map = {}\n",
    "        for i, node in enumerate(G.nodes.data()):\n",
    "            name_map[node[0]] = labels[i]\n",
    "        import numpy as np\n",
    "        final_mapper = {}\n",
    "        for color in label_map:\n",
    "            arr = np.array(label_map[color])\n",
    "            xs,ys = np.median(arr[:,0]), np.median(arr[:,1])\n",
    "            final_mapper[color] = (xs,ys)    \n",
    "        df['DB_CLUSTER_LOCATION_ODDAJA'] = df['LOKACIJA_ODDAJE'].apply(lambda x: name_map.get(x,100001))#[name_map[x] for x in df['LOKACIJA_ODDAJE']]LOKACIJA_PREJEMA\n",
    "        df['DB_CLUSTER_LOCATION_ODDAJA_X'] = df['DB_CLUSTER_LOCATION_ODDAJA'].apply(lambda x: final_mapper.get(x,[100001,100001])[0])#[name_map[x] for x in df['LOKACIJA_ODDAJE']]LOKACIJA_PREJEMA\n",
    "        df['DB_CLUSTER_LOCATION_ODDAJA_Y'] = df['DB_CLUSTER_LOCATION_ODDAJA'].apply(lambda x: final_mapper.get(x,[100001,100001])[1])#[name_map[x] for x in df['LOKACIJA_ODDAJE']]LOKACIJA_PREJEMA\n",
    "        df['DB_CLUSTER_LOCATION_PREJEMA'] = df['LOKACIJA_PREJEMA'].apply(lambda x: name_map.get(x,100001))#[name_map[x] for x in df['LOKACIJA_ODDAJE']]LOKACIJA_PREJEMA\n",
    "        df['DB_CLUSTER_LOCATION_PREJEMA_X'] = df['DB_CLUSTER_LOCATION_PREJEMA'].apply(lambda x: final_mapper.get(x,[100001,100001])[0])#[name_map[x] for x in df['LOKACIJA_ODDAJE']]LOKACIJA_PREJEMA\n",
    "        df['DB_CLUSTER_LOCATION_PREJEMA_Y'] = df['DB_CLUSTER_LOCATION_PREJEMA'].apply(lambda x: final_mapper.get(x,[100001,100001])[1])#[name_map[x] for x in df['LOKACIJA_ODDAJE']]LOKACIJA_PREJEMA\n",
    "        df.groupby(['DAT_ODDAJA', 'DAT_PREJEM_ZAV','DB_CLUSTER_LOCATION_ODDAJA','DB_CLUSTER_LOCATION_PREJEMA','IZVOR ODPADKA','NAZIV_ODPADKA_MERGED','NEVAREN','DB_CLUSTER_LOCATION_ODDAJA_X','DB_CLUSTER_LOCATION_ODDAJA_Y','DB_CLUSTER_LOCATION_PREJEMA_X','DB_CLUSTER_LOCATION_PREJEMA_Y']).agg({'KOLIČINA ODPADKA v kg':\"sum\"}).reset_index().to_csv(f'EVL_boshko_done_DB-{e}.csv')\n",
    "        #break"
   ]
  },
  {
   "cell_type": "code",
   "execution_count": 15,
   "id": "cf5f47b7-aede-4632-bbe2-a44f0e72cff5",
   "metadata": {},
   "outputs": [],
   "source": [
    "label_map = {i:[] for i in set(labels)}\n",
    "for node, label in zip(G.nodes.data(), labels):\n",
    "   # print(node)\n",
    "    node_name = node[0]\n",
    "    node_stuff = node[1]\n",
    "    label_map[label].append(((node_stuff['lang'],node_stuff['long'])))\n",
    "        "
   ]
  },
  {
   "cell_type": "code",
   "execution_count": 16,
   "id": "378bc89e-78c1-4b0d-bfa0-d1324f117ec3",
   "metadata": {},
   "outputs": [],
   "source": [
    "name_map = {}\n",
    "for i, node in enumerate(G.nodes.data()):\n",
    "    name_map[node[0]] = labels[i]\n",
    "    "
   ]
  },
  {
   "cell_type": "code",
   "execution_count": 17,
   "id": "719af5ba-e0ed-4808-9296-ede1be9fc387",
   "metadata": {},
   "outputs": [],
   "source": [
    "import numpy as np\n",
    "final_mapper = {}\n",
    "for color in label_map:\n",
    "    arr = np.array(label_map[color])\n",
    "    xs,ys = np.median(arr[:,0]), np.median(arr[:,1])\n",
    "    final_mapper[color] = (xs,ys)"
   ]
  },
  {
   "cell_type": "code",
   "execution_count": 19,
   "id": "ba169844-4842-4682-a19c-d9286f404881",
   "metadata": {},
   "outputs": [
    {
     "data": {
      "text/plain": [
       "(490, 490)"
      ]
     },
     "execution_count": 19,
     "metadata": {},
     "output_type": "execute_result"
    }
   ],
   "source": [
    "len(final_mapper.values()), len(set(final_mapper.values()))"
   ]
  },
  {
   "cell_type": "code",
   "execution_count": 50,
   "id": "d23a3bda-97d4-43c1-9a1a-7aae49481508",
   "metadata": {},
   "outputs": [
    {
     "data": {
      "text/plain": [
       "-1      534346\n",
       " 14       6404\n",
       " 24       5045\n",
       " 226      2731\n",
       " 150      2591\n",
       "         ...  \n",
       " 308        10\n",
       " 454        10\n",
       " 328        10\n",
       " 247         7\n",
       " 69          7\n",
       "Name: DB_CLUSTER_LOCATION_ODDAJA, Length: 490, dtype: int64"
      ]
     },
     "execution_count": 50,
     "metadata": {},
     "output_type": "execute_result"
    }
   ],
   "source": [
    "df['DB_CLUSTER_LOCATION_ODDAJA'].value_counts()"
   ]
  },
  {
   "cell_type": "markdown",
   "id": "9ad6c76c-82ff-4425-9151-b136fb6b0e0d",
   "metadata": {},
   "source": [
    "# СТВАРНО ЈАКА Е!"
   ]
  },
  {
   "cell_type": "markdown",
   "id": "9e19a17c-dcc1-48be-a999-c25387bcb771",
   "metadata": {},
   "source": [
    "CLUSTER_LOCATION_ODDAJA_X"
   ]
  },
  {
   "cell_type": "code",
   "execution_count": null,
   "id": "17bf0885-6caf-4a57-955f-8d75bcd4c3cd",
   "metadata": {},
   "outputs": [],
   "source": [
    "'CLUSTER_LOCATION_ODDAJA_X','CLUSTER_LOCATION_ODDAJA_Y','CLUSTER_LOCATION_PREJEMA_X','CLUSTER_LOCATION_PREJEMA_Y'"
   ]
  },
  {
   "cell_type": "code",
   "execution_count": null,
   "id": "86d6d5a1-c832-4f71-895f-e2b0dcff234e",
   "metadata": {},
   "outputs": [],
   "source": []
  },
  {
   "cell_type": "code",
   "execution_count": 38,
   "id": "81f03248-ab90-4c3c-99e1-614bae610b2c",
   "metadata": {},
   "outputs": [],
   "source": [
    "df['DB_CLUSTER_LOCATION_ODDAJA'] = df['LOKACIJA_ODDAJE'].apply(lambda x: name_map.get(x,100001))#[name_map[x] for x in df['LOKACIJA_ODDAJE']]LOKACIJA_PREJEMA"
   ]
  },
  {
   "cell_type": "code",
   "execution_count": 39,
   "id": "14d45b9e-d4ef-4607-9aa2-3b7fc0be9020",
   "metadata": {},
   "outputs": [],
   "source": [
    "df['DB_CLUSTER_LOCATION_ODDAJA_X'] = df['DB_CLUSTER_LOCATION_ODDAJA'].apply(lambda x: final_mapper.get(x,[100001,100001])[0])#[name_map[x] for x in df['LOKACIJA_ODDAJE']]LOKACIJA_PREJEMA"
   ]
  },
  {
   "cell_type": "code",
   "execution_count": 40,
   "id": "69ea8f2d-8102-4714-8c73-11d2ac665ed8",
   "metadata": {},
   "outputs": [],
   "source": [
    "df['DB_CLUSTER_LOCATION_ODDAJA_Y'] = df['DB_CLUSTER_LOCATION_ODDAJA'].apply(lambda x: final_mapper.get(x,[100001,100001])[1])#[name_map[x] for x in df['LOKACIJA_ODDAJE']]LOKACIJA_PREJEMA"
   ]
  },
  {
   "cell_type": "code",
   "execution_count": 41,
   "id": "9757c9e5-b9fb-40fe-a6db-88a358e282de",
   "metadata": {},
   "outputs": [],
   "source": [
    "df['DB_CLUSTER_LOCATION_PREJEMA'] = df['LOKACIJA_PREJEMA'].apply(lambda x: name_map.get(x,100001))#[name_map[x] for x in df['LOKACIJA_ODDAJE']]LOKACIJA_PREJEMA"
   ]
  },
  {
   "cell_type": "code",
   "execution_count": 42,
   "id": "376b2393-f253-4281-9bd9-f91d2143af62",
   "metadata": {},
   "outputs": [],
   "source": [
    "df['DB_CLUSTER_LOCATION_PREJEMA_X'] = df['DB_CLUSTER_LOCATION_PREJEMA'].apply(lambda x: final_mapper.get(x,[100001,100001])[0])#[name_map[x] for x in df['LOKACIJA_ODDAJE']]LOKACIJA_PREJEMA"
   ]
  },
  {
   "cell_type": "code",
   "execution_count": 43,
   "id": "e1eef082-bcc0-4692-9a35-6f2d2c2e3097",
   "metadata": {},
   "outputs": [],
   "source": [
    "df['DB_CLUSTER_LOCATION_PREJEMA_Y'] = df['DB_CLUSTER_LOCATION_PREJEMA'].apply(lambda x: final_mapper.get(x,[100001,100001])[1])#[name_map[x] for x in df['LOKACIJA_ODDAJE']]LOKACIJA_PREJEMA"
   ]
  },
  {
   "cell_type": "code",
   "execution_count": 47,
   "id": "8c8293d4-f65d-4243-a7b9-838bb0d65fd5",
   "metadata": {},
   "outputs": [
    {
     "data": {
      "text/plain": [
       "490"
      ]
     },
     "execution_count": 47,
     "metadata": {},
     "output_type": "execute_result"
    }
   ],
   "source": [
    "len(set(df['DB_CLUSTER_LOCATION_PREJEMA']).union(df['DB_CLUSTER_LOCATION_ODDAJA']))"
   ]
  },
  {
   "cell_type": "code",
   "execution_count": 45,
   "id": "613f5ed9-dcc3-451d-a50e-c138f68bc901",
   "metadata": {},
   "outputs": [],
   "source": [
    "df = df[(df['DB_CLUSTER_LOCATION_ODDAJA'] != 100001) & (df['DB_CLUSTER_LOCATION_PREJEMA'] != 100001) ].reindex()"
   ]
  },
  {
   "cell_type": "code",
   "execution_count": 46,
   "id": "e846ef4d-bc67-4f38-aeca-944735839a03",
   "metadata": {},
   "outputs": [
    {
     "data": {
      "text/plain": [
       "Index(['LOKACIJA_ODDAJE', 'LOKACIJA_PREJEMA', 'DAT_ODDAJA', 'DAT_PREJEM_ZAV',\n",
       "       'NAZIV_ODPADKA_MERGED', 'KOLIČINA ODPADKA v kg', 'IZVOR ODPADKA',\n",
       "       'NEVAREN', 'DB_CLUSTER_LOCATION_ODDAJA', 'DB_CLUSTER_LOCATION_ODDAJA_X',\n",
       "       'CLUSTER_LOCATION_ODDAJA_Y', 'DB_CLUSTER_LOCATION_PREJEMA',\n",
       "       'DB_CLUSTER_LOCATION_PREJEMA_X', 'DB_CLUSTER_LOCATION_PREJEMA_Y',\n",
       "       'DB_CLUSTER_LOCATION_ODDAJA_Y'],\n",
       "      dtype='object')"
      ]
     },
     "execution_count": 46,
     "metadata": {},
     "output_type": "execute_result"
    }
   ],
   "source": [
    "df.keys()"
   ]
  },
  {
   "cell_type": "markdown",
   "id": "d9bd3d6f-db04-4023-adb8-38bf90f0dd47",
   "metadata": {},
   "source": [
    "# DECISION TREES AND SVM >>> BIOBERT SCIENCE!"
   ]
  },
  {
   "cell_type": "code",
   "execution_count": 49,
   "id": "63375886-06e4-4e0c-b18f-d7ee681d65a7",
   "metadata": {},
   "outputs": [],
   "source": [
    "df.groupby(['DAT_ODDAJA', 'DAT_PREJEM_ZAV','DB_CLUSTER_LOCATION_ODDAJA','DB_CLUSTER_LOCATION_PREJEMA','IZVOR ODPADKA','NAZIV_ODPADKA_MERGED','NEVAREN','DB_CLUSTER_LOCATION_ODDAJA_X','DB_CLUSTER_LOCATION_ODDAJA_Y','DB_CLUSTER_LOCATION_PREJEMA_X','DB_CLUSTER_LOCATION_PREJEMA_Y']).agg({'KOLIČINA ODPADKA v kg':\"sum\"}).reset_index().to_csv('EVL_boshko_done_DB-fixed.csv')"
   ]
  },
  {
   "cell_type": "code",
   "execution_count": null,
   "id": "dc5366ce-4702-427d-864b-c5a862c75af9",
   "metadata": {},
   "outputs": [],
   "source": [
    "df_mapper2 = pd.DataFrame()"
   ]
  },
  {
   "cell_type": "code",
   "execution_count": null,
   "id": "3fae71b1-309a-4efb-ae8f-01a680572ed0",
   "metadata": {},
   "outputs": [],
   "source": [
    "final_mapper"
   ]
  },
  {
   "cell_type": "code",
   "execution_count": null,
   "id": "18b2ef2d-d9c4-4210-81d7-44c0cac70e1e",
   "metadata": {},
   "outputs": [],
   "source": [
    "list(G.nodes)"
   ]
  },
  {
   "cell_type": "code",
   "execution_count": 226,
   "id": "e5e45a07-8827-4891-9d85-98fb3f144e3d",
   "metadata": {},
   "outputs": [
    {
     "name": "stderr",
     "output_type": "stream",
     "text": [
      "\n",
      "Computing transition probabilities:   0%|                     | 0/12383 [00:00<?, ?it/s]\u001b[A\n",
      "Computing transition probabilities:   1%|         | 170/12383 [00:00<00:07, 1700.00it/s]\u001b[A\n",
      "Computing transition probabilities:   5%|▍        | 568/12383 [00:00<00:03, 3041.17it/s]\u001b[A\n",
      "Computing transition probabilities:   8%|▋       | 1026/12383 [00:00<00:03, 3743.83it/s]\u001b[A\n",
      "Computing transition probabilities:  11%|▉       | 1401/12383 [00:00<00:03, 3645.54it/s]\u001b[A\n",
      "Computing transition probabilities:  15%|█▏      | 1802/12383 [00:00<00:02, 3774.29it/s]\u001b[A\n",
      "Computing transition probabilities:  19%|█▍      | 2291/12383 [00:00<00:02, 4135.77it/s]\u001b[A\n",
      "Computing transition probabilities:  23%|█▊      | 2821/12383 [00:00<00:02, 4512.53it/s]\u001b[A\n",
      "Computing transition probabilities:  27%|██▏     | 3370/12383 [00:00<00:01, 4821.38it/s]\u001b[A\n",
      "Computing transition probabilities:  32%|██▌     | 4005/12383 [00:00<00:01, 4193.60it/s]\u001b[A\n"
     ]
    },
    {
     "ename": "KeyboardInterrupt",
     "evalue": "",
     "output_type": "error",
     "traceback": [
      "\u001b[1;31m---------------------------------------------------------------------------\u001b[0m",
      "\u001b[1;31mKeyboardInterrupt\u001b[0m                         Traceback (most recent call last)",
      "\u001b[1;32m<ipython-input-226-94ba99f49fda>\u001b[0m in \u001b[0;36m<module>\u001b[1;34m\u001b[0m\n\u001b[1;32m----> 1\u001b[1;33m \u001b[0mnode2vec\u001b[0m \u001b[1;33m=\u001b[0m \u001b[0mNode2Vec\u001b[0m\u001b[1;33m(\u001b[0m\u001b[0mG\u001b[0m\u001b[1;33m,\u001b[0m \u001b[0mdimensions\u001b[0m\u001b[1;33m=\u001b[0m\u001b[1;36m2\u001b[0m\u001b[1;33m,\u001b[0m \u001b[0mwalk_length\u001b[0m\u001b[1;33m=\u001b[0m\u001b[1;36m20\u001b[0m\u001b[1;33m,\u001b[0m \u001b[0mnum_walks\u001b[0m\u001b[1;33m=\u001b[0m\u001b[1;36m10\u001b[0m\u001b[1;33m,\u001b[0m\u001b[0mworkers\u001b[0m\u001b[1;33m=\u001b[0m\u001b[1;36m1\u001b[0m\u001b[1;33m)\u001b[0m\u001b[1;33m\u001b[0m\u001b[1;33m\u001b[0m\u001b[0m\n\u001b[0m\u001b[0;32m      2\u001b[0m \u001b[0mmodel\u001b[0m \u001b[1;33m=\u001b[0m \u001b[0mnode2vec\u001b[0m\u001b[1;33m.\u001b[0m\u001b[0mfit\u001b[0m\u001b[1;33m(\u001b[0m\u001b[0mwindow\u001b[0m\u001b[1;33m=\u001b[0m\u001b[1;36m5\u001b[0m\u001b[1;33m,\u001b[0m \u001b[0mmin_count\u001b[0m\u001b[1;33m=\u001b[0m\u001b[1;36m1\u001b[0m\u001b[1;33m)\u001b[0m\u001b[1;33m\u001b[0m\u001b[1;33m\u001b[0m\u001b[0m\n\u001b[0;32m      3\u001b[0m \u001b[0mmodel\u001b[0m\u001b[1;33m.\u001b[0m\u001b[0mwv\u001b[0m\u001b[1;33m.\u001b[0m\u001b[0msave_word2vec_format\u001b[0m\u001b[1;33m(\u001b[0m\u001b[1;34m\"embedding.emb\"\u001b[0m\u001b[1;33m)\u001b[0m\u001b[1;33m\u001b[0m\u001b[1;33m\u001b[0m\u001b[0m\n",
      "\u001b[1;32mC:\\ProgramData\\Anaconda3\\lib\\site-packages\\node2vec\\node2vec.py\u001b[0m in \u001b[0;36m__init__\u001b[1;34m(self, graph, dimensions, walk_length, num_walks, p, q, weight_key, workers, sampling_strategy, quiet, temp_folder)\u001b[0m\n\u001b[0;32m     64\u001b[0m             \u001b[0mself\u001b[0m\u001b[1;33m.\u001b[0m\u001b[0mrequire\u001b[0m \u001b[1;33m=\u001b[0m \u001b[1;34m\"sharedmem\"\u001b[0m\u001b[1;33m\u001b[0m\u001b[1;33m\u001b[0m\u001b[0m\n\u001b[0;32m     65\u001b[0m \u001b[1;33m\u001b[0m\u001b[0m\n\u001b[1;32m---> 66\u001b[1;33m         \u001b[0mself\u001b[0m\u001b[1;33m.\u001b[0m\u001b[0m_precompute_probabilities\u001b[0m\u001b[1;33m(\u001b[0m\u001b[1;33m)\u001b[0m\u001b[1;33m\u001b[0m\u001b[1;33m\u001b[0m\u001b[0m\n\u001b[0m\u001b[0;32m     67\u001b[0m         \u001b[0mself\u001b[0m\u001b[1;33m.\u001b[0m\u001b[0mwalks\u001b[0m \u001b[1;33m=\u001b[0m \u001b[0mself\u001b[0m\u001b[1;33m.\u001b[0m\u001b[0m_generate_walks\u001b[0m\u001b[1;33m(\u001b[0m\u001b[1;33m)\u001b[0m\u001b[1;33m\u001b[0m\u001b[1;33m\u001b[0m\u001b[0m\n\u001b[0;32m     68\u001b[0m \u001b[1;33m\u001b[0m\u001b[0m\n",
      "\u001b[1;32mC:\\ProgramData\\Anaconda3\\lib\\site-packages\\node2vec\\node2vec.py\u001b[0m in \u001b[0;36m_precompute_probabilities\u001b[1;34m(self)\u001b[0m\n\u001b[0;32m    102\u001b[0m                     \u001b[1;32mif\u001b[0m \u001b[0mdestination\u001b[0m \u001b[1;33m==\u001b[0m \u001b[0msource\u001b[0m\u001b[1;33m:\u001b[0m  \u001b[1;31m# Backwards probability\u001b[0m\u001b[1;33m\u001b[0m\u001b[1;33m\u001b[0m\u001b[0m\n\u001b[0;32m    103\u001b[0m                         \u001b[0mss_weight\u001b[0m \u001b[1;33m=\u001b[0m \u001b[0mself\u001b[0m\u001b[1;33m.\u001b[0m\u001b[0mgraph\u001b[0m\u001b[1;33m[\u001b[0m\u001b[0mcurrent_node\u001b[0m\u001b[1;33m]\u001b[0m\u001b[1;33m[\u001b[0m\u001b[0mdestination\u001b[0m\u001b[1;33m]\u001b[0m\u001b[1;33m.\u001b[0m\u001b[0mget\u001b[0m\u001b[1;33m(\u001b[0m\u001b[0mself\u001b[0m\u001b[1;33m.\u001b[0m\u001b[0mweight_key\u001b[0m\u001b[1;33m,\u001b[0m \u001b[1;36m1\u001b[0m\u001b[1;33m)\u001b[0m \u001b[1;33m*\u001b[0m \u001b[1;36m1\u001b[0m \u001b[1;33m/\u001b[0m \u001b[0mp\u001b[0m\u001b[1;33m\u001b[0m\u001b[1;33m\u001b[0m\u001b[0m\n\u001b[1;32m--> 104\u001b[1;33m                     \u001b[1;32melif\u001b[0m \u001b[0mdestination\u001b[0m \u001b[1;32min\u001b[0m \u001b[0mself\u001b[0m\u001b[1;33m.\u001b[0m\u001b[0mgraph\u001b[0m\u001b[1;33m[\u001b[0m\u001b[0msource\u001b[0m\u001b[1;33m]\u001b[0m\u001b[1;33m:\u001b[0m  \u001b[1;31m# If the neighbor is connected to the source\u001b[0m\u001b[1;33m\u001b[0m\u001b[1;33m\u001b[0m\u001b[0m\n\u001b[0m\u001b[0;32m    105\u001b[0m                         \u001b[0mss_weight\u001b[0m \u001b[1;33m=\u001b[0m \u001b[0mself\u001b[0m\u001b[1;33m.\u001b[0m\u001b[0mgraph\u001b[0m\u001b[1;33m[\u001b[0m\u001b[0mcurrent_node\u001b[0m\u001b[1;33m]\u001b[0m\u001b[1;33m[\u001b[0m\u001b[0mdestination\u001b[0m\u001b[1;33m]\u001b[0m\u001b[1;33m.\u001b[0m\u001b[0mget\u001b[0m\u001b[1;33m(\u001b[0m\u001b[0mself\u001b[0m\u001b[1;33m.\u001b[0m\u001b[0mweight_key\u001b[0m\u001b[1;33m,\u001b[0m \u001b[1;36m1\u001b[0m\u001b[1;33m)\u001b[0m\u001b[1;33m\u001b[0m\u001b[1;33m\u001b[0m\u001b[0m\n\u001b[0;32m    106\u001b[0m                     \u001b[1;32melse\u001b[0m\u001b[1;33m:\u001b[0m\u001b[1;33m\u001b[0m\u001b[1;33m\u001b[0m\u001b[0m\n",
      "\u001b[1;32m~\\AppData\\Roaming\\Python\\Python37\\site-packages\\networkx\\classes\\graph.py\u001b[0m in \u001b[0;36m__getitem__\u001b[1;34m(self, n)\u001b[0m\n\u001b[0;32m    463\u001b[0m         \u001b[0mAtlasView\u001b[0m\u001b[1;33m(\u001b[0m\u001b[1;33m{\u001b[0m\u001b[1;36m1\u001b[0m\u001b[1;33m:\u001b[0m \u001b[1;33m{\u001b[0m\u001b[1;33m}\u001b[0m\u001b[1;33m}\u001b[0m\u001b[1;33m)\u001b[0m\u001b[1;33m\u001b[0m\u001b[1;33m\u001b[0m\u001b[0m\n\u001b[0;32m    464\u001b[0m         \"\"\"\n\u001b[1;32m--> 465\u001b[1;33m         \u001b[1;32mreturn\u001b[0m \u001b[0mself\u001b[0m\u001b[1;33m.\u001b[0m\u001b[0madj\u001b[0m\u001b[1;33m[\u001b[0m\u001b[0mn\u001b[0m\u001b[1;33m]\u001b[0m\u001b[1;33m\u001b[0m\u001b[1;33m\u001b[0m\u001b[0m\n\u001b[0m\u001b[0;32m    466\u001b[0m \u001b[1;33m\u001b[0m\u001b[0m\n\u001b[0;32m    467\u001b[0m     \u001b[1;32mdef\u001b[0m \u001b[0madd_node\u001b[0m\u001b[1;33m(\u001b[0m\u001b[0mself\u001b[0m\u001b[1;33m,\u001b[0m \u001b[0mnode_for_adding\u001b[0m\u001b[1;33m,\u001b[0m \u001b[1;33m**\u001b[0m\u001b[0mattr\u001b[0m\u001b[1;33m)\u001b[0m\u001b[1;33m:\u001b[0m\u001b[1;33m\u001b[0m\u001b[1;33m\u001b[0m\u001b[0m\n",
      "\u001b[1;32m~\\AppData\\Roaming\\Python\\Python37\\site-packages\\networkx\\classes\\digraph.py\u001b[0m in \u001b[0;36madj\u001b[1;34m(self)\u001b[0m\n\u001b[0;32m    337\u001b[0m         \u001b[0mFor\u001b[0m \u001b[0mdirected\u001b[0m \u001b[0mgraphs\u001b[0m\u001b[1;33m,\u001b[0m\u001b[0;31m \u001b[0m\u001b[0;31m`\u001b[0m\u001b[0mG\u001b[0m\u001b[1;33m.\u001b[0m\u001b[0madj\u001b[0m\u001b[0;31m`\u001b[0m \u001b[0mholds\u001b[0m \u001b[0moutgoing\u001b[0m \u001b[1;33m(\u001b[0m\u001b[0msuccessor\u001b[0m\u001b[1;33m)\u001b[0m \u001b[0minfo\u001b[0m\u001b[1;33m.\u001b[0m\u001b[1;33m\u001b[0m\u001b[1;33m\u001b[0m\u001b[0m\n\u001b[0;32m    338\u001b[0m         \"\"\"\n\u001b[1;32m--> 339\u001b[1;33m         \u001b[1;32mreturn\u001b[0m \u001b[0mAdjacencyView\u001b[0m\u001b[1;33m(\u001b[0m\u001b[0mself\u001b[0m\u001b[1;33m.\u001b[0m\u001b[0m_succ\u001b[0m\u001b[1;33m)\u001b[0m\u001b[1;33m\u001b[0m\u001b[1;33m\u001b[0m\u001b[0m\n\u001b[0m\u001b[0;32m    340\u001b[0m \u001b[1;33m\u001b[0m\u001b[0m\n\u001b[0;32m    341\u001b[0m     \u001b[1;33m@\u001b[0m\u001b[0mproperty\u001b[0m\u001b[1;33m\u001b[0m\u001b[1;33m\u001b[0m\u001b[0m\n",
      "\u001b[1;32m~\\AppData\\Roaming\\Python\\Python37\\site-packages\\networkx\\classes\\coreviews.py\u001b[0m in \u001b[0;36m__init__\u001b[1;34m(self, d)\u001b[0m\n\u001b[0;32m     40\u001b[0m \u001b[1;33m\u001b[0m\u001b[0m\n\u001b[0;32m     41\u001b[0m     \u001b[1;32mdef\u001b[0m \u001b[0m__init__\u001b[0m\u001b[1;33m(\u001b[0m\u001b[0mself\u001b[0m\u001b[1;33m,\u001b[0m \u001b[0md\u001b[0m\u001b[1;33m)\u001b[0m\u001b[1;33m:\u001b[0m\u001b[1;33m\u001b[0m\u001b[1;33m\u001b[0m\u001b[0m\n\u001b[1;32m---> 42\u001b[1;33m         \u001b[0mself\u001b[0m\u001b[1;33m.\u001b[0m\u001b[0m_atlas\u001b[0m \u001b[1;33m=\u001b[0m \u001b[0md\u001b[0m\u001b[1;33m\u001b[0m\u001b[1;33m\u001b[0m\u001b[0m\n\u001b[0m\u001b[0;32m     43\u001b[0m \u001b[1;33m\u001b[0m\u001b[0m\n\u001b[0;32m     44\u001b[0m     \u001b[1;32mdef\u001b[0m \u001b[0m__len__\u001b[0m\u001b[1;33m(\u001b[0m\u001b[0mself\u001b[0m\u001b[1;33m)\u001b[0m\u001b[1;33m:\u001b[0m\u001b[1;33m\u001b[0m\u001b[1;33m\u001b[0m\u001b[0m\n",
      "\u001b[1;31mKeyboardInterrupt\u001b[0m: "
     ]
    }
   ],
   "source": [
    "node2vec = Node2Vec(G, dimensions=2, walk_length=20, num_walks=10,workers=1)\n",
    "model = node2vec.fit(window=5, min_count=1)\n",
    "model.wv.save_word2vec_format(\"embedding.emb\")"
   ]
  },
  {
   "cell_type": "code",
   "execution_count": 192,
   "id": "e94f716e-c572-42b4-8346-f2b74fed56d5",
   "metadata": {},
   "outputs": [
    {
     "name": "stdout",
     "output_type": "stream",
     "text": [
      "200\n"
     ]
    }
   ],
   "source": [
    "from sklearn.cluster import KMeans\n",
    "import numpy as np\n",
    "\n",
    "\n",
    "kmeans = KMeans(n_clusters=200, random_state=0).fit(A) # apply kmeans on Z\n",
    "labels=kmeans.labels_  # get the cluster labels of the nodes.\n",
    "print(len(set(labels)))"
   ]
  },
  {
   "cell_type": "code",
   "execution_count": 247,
   "id": "6def257a-ee6d-479b-bebf-b93ca91b861c",
   "metadata": {},
   "outputs": [
    {
     "data": {
      "text/plain": [
       "199"
      ]
     },
     "execution_count": 247,
     "metadata": {},
     "output_type": "execute_result"
    }
   ],
   "source": [
    "max(labels)"
   ]
  },
  {
   "cell_type": "code",
   "execution_count": null,
   "id": "dc4f8aa2-af77-4cee-a365-59a6b939fb74",
   "metadata": {},
   "outputs": [],
   "source": [
    "\n",
    "X = np.loadtxt(\"embedding.emb\", skiprows=1) # load the embedding of the nodes of the graph\n",
    "#print(X)\n",
    "# sort the embedding based on node index in the first column in X\n",
    "X=X[X[:,0].argsort()]; \n",
    "#print(X)\n",
    "Z=X[0:X.shape[0],1:X.shape[1]]; # remove the node index from X and save in Z\n",
    "\n",
    "kmeans = KMeans(n_clusters=200, random_state=0).fit(A) # apply kmeans on Z\n",
    "labels=kmeans.labels_  # get the cluster labels of the nodes.\n",
    "print(labels)"
   ]
  }
 ],
 "metadata": {
  "kernelspec": {
   "display_name": "Python 3",
   "language": "python",
   "name": "python3"
  },
  "language_info": {
   "codemirror_mode": {
    "name": "ipython",
    "version": 3
   },
   "file_extension": ".py",
   "mimetype": "text/x-python",
   "name": "python",
   "nbconvert_exporter": "python",
   "pygments_lexer": "ipython3",
   "version": "3.7.6"
  }
 },
 "nbformat": 4,
 "nbformat_minor": 5
}
